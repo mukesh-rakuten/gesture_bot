{
 "cells": [
  {
   "cell_type": "code",
   "execution_count": 2,
   "id": "4a858cc4",
   "metadata": {},
   "outputs": [
    {
     "name": "stdout",
     "output_type": "stream",
     "text": [
      "Moviepy - Building video merged_video.mp4.\n",
      "Moviepy - Writing video merged_video.mp4\n",
      "\n"
     ]
    },
    {
     "name": "stderr",
     "output_type": "stream",
     "text": [
      "                                                                                \r"
     ]
    },
    {
     "name": "stdout",
     "output_type": "stream",
     "text": [
      "Moviepy - Done !\n",
      "Moviepy - video ready merged_video.mp4\n"
     ]
    }
   ],
   "source": [
    "from moviepy.editor import VideoFileClip, clips_array\n",
    "\n",
    "# List of video file paths to merge\n",
    "# assets/0.mp4\n",
    "\n",
    "video_files = [\"/Users/bheema.ujwala/work/gesture_bot/assets/0.mp4\", \"/Users/bheema.ujwala/work/gesture_bot/assets/1.mp4\", \"/Users/bheema.ujwala/work/gesture_bot/assets/2.mp4\"]\n",
    "\n",
    "# Load video clips\n",
    "video_clips = [VideoFileClip(file) for file in video_files]\n",
    "\n",
    "# Merge videos horizontally (side by side)\n",
    "final_clip = clips_array([video_clips])\n",
    "\n",
    "# Set the output file name and duration\n",
    "output_file = \"merged_video.mp4\"\n",
    "final_clip.write_videofile(output_file, codec=\"libx264\")\n"
   ]
  },
  {
   "cell_type": "code",
   "execution_count": 4,
   "id": "2666f666",
   "metadata": {},
   "outputs": [
    {
     "name": "stdout",
     "output_type": "stream",
     "text": [
      "Hello World This is a test string with pecial characters\n"
     ]
    }
   ],
   "source": [
    "# Input string with special characters\n",
    "input_string = \"Hello, World! This is a test string with $pecial characters.\"\n",
    "\n",
    "# Create an empty string to store the result\n",
    "output_string = \"\"\n",
    "\n",
    "# Iterate through each character in the input string\n",
    "for char in input_string:\n",
    "    # Check if the character is a letter, digit, or whitespace\n",
    "    if char.isalnum() or char.isspace():\n",
    "        # If yes, add it to the output string\n",
    "        output_string += char\n",
    "\n",
    "print(output_string)\n",
    "# In this approach, we iterate through each character in the input string and check whether it is alphanumeric (a letter or digit) or a whitespace character. If it is, we add it to the output_string, effectively removing special characters.\n",
    "\n",
    "# Both of these methods will give you a string with special characters removed. Choose the one that best suits your needs and coding style.\n",
    "\n",
    "\n",
    "\n",
    "\n",
    "\n",
    "\n"
   ]
  }
 ],
 "metadata": {
  "kernelspec": {
   "display_name": "Python 3 (ipykernel)",
   "language": "python",
   "name": "python3"
  },
  "language_info": {
   "codemirror_mode": {
    "name": "ipython",
    "version": 3
   },
   "file_extension": ".py",
   "mimetype": "text/x-python",
   "name": "python",
   "nbconvert_exporter": "python",
   "pygments_lexer": "ipython3",
   "version": "3.11.3"
  }
 },
 "nbformat": 4,
 "nbformat_minor": 5
}
